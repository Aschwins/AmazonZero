{
 "cells": [
  {
   "cell_type": "markdown",
   "metadata": {},
   "source": [
    "# AmazonZero\n",
    "\n",
    "In this notebook we'll explore on how to develop a AI for playing the game of amazons. The tactic is going to be to develop an AI using reinforcement learning. So we'll create an agent which consists of two parts:\n",
    "\n",
    "1. A predictor: A neural network which predicts the winner: black or white (categorical), given some input data: Square States (categorical), Game States (categorical), Available squares white (integer), Available square black (integer).\n",
    "2. An actor: A decision maker which monte carlo tree searches through all the possible moves and makes predictions on the board states for each deeper level. It then picks the tree which will result in the highest probability of a win for the acting side.\n",
    "\n",
    "## The input data\n",
    "\n",
    "We give AI three different sorts of input. \n",
    "\n",
    "### Square states\n",
    "There are a total of four square states: [Empty, White Amazon, Black Amazon, Fire]. Which we'll encode as follows:\n",
    "\n",
    "[E, WA, BA, F] = [0, 1, 2, 3] = [[0, 0, 0], [0, 0, 1], [0, 1, 0], [1, 0, 0]]\n",
    "\n",
    "This is so the network picks up that these are categories and there is no certain order in them. This part of the input is fed seperately to the network.\n",
    "\n",
    "### Board states\n",
    "There are a total of four board states: [White selects, White shoots, Black selects, Black shoots]. Which we'll encode in the same way.\n",
    "\n",
    "[Wse, Wsh, Bse, Bsh] = [0, 1, 2, 3] = [[0, 0, 0], [0, 0, 1], [0, 1, 0], [1, 0, 0]]\n",
    "\n",
    "And again we will feed this in to the network seperately.\n",
    "\n",
    "### Available squares white\n",
    "We will also pass in a single node which contains the information about the number of available square for white. This value will be scaled between 0 and 1, and will be fed into the network seperately. \n",
    "\n",
    "### Available square black\n",
    "We will also pass in a single node which contains the informat about the number of available squares for black. This value will be scaled betwee 0 and 1, and will be fed into the network seperately.\n",
    "\n",
    "## The output data\n",
    "\n",
    "The network will try to predict wether white will win or black will win.\n",
    "\n",
    "White wins: [W] = [1] = [1, 0]\n",
    "Black wins: [B] = [0] = [0, 1]\n",
    "\n",
    "# Plan de Campagne\n",
    "\n",
    "1. Random AI: We will create an AI which will play random moves.\n",
    "- We still need to implement game end\n",
    "- We need to implement the player on the server.\n",
    "\n",
    "\n",
    "2. Smart AI: We will create a smart AI which monte carlo tree searches all possible moves and picks the path which will result in the most possible moves for the acting side\n",
    "\n",
    "3. Neural Net AI: We will create two AI with an actor and predictor and let them play lots of games against eachother. After a certain amount of games we will update the nodes with the results of all the games in memory. NOTE: This AI uses a exploration and exploitation to explore. Where in the beginning there will be lots of exploration and once it has learned from a lot of previous games the AI will use more and more exploitation.\n",
    "\n",
    "https://www.youtube.com/watch?v=RfNxXlO6BiA"
   ]
  },
  {
   "cell_type": "code",
   "execution_count": 2,
   "metadata": {},
   "outputs": [],
   "source": [
    "import numpy as np\n",
    "from amazonzero.board import Board\n",
    "import matplotlib.pyplot as plt\n",
    "import random\n",
    "\n",
    "%matplotlib inline\n",
    "%load_ext autoreload\n",
    "%autoreload 2"
   ]
  },
  {
   "cell_type": "code",
   "execution_count": 217,
   "metadata": {},
   "outputs": [],
   "source": [
    "import numpy as np\n",
    "import matplotlib.pyplot as plt\n",
    "from matplotlib.colors import ListedColormap\n",
    "\n",
    "TURN = ['white', 'black']\n",
    "\n",
    "colormap = {'white': 1, 'black': 2}\n",
    "class Board:\n",
    "    \"\"\"\n",
    "    A board class of width x width with n_amazons for each side. \n",
    "    \"\"\"\n",
    "    def __init__(self, width, n_amazons):\n",
    "        if width / n_amazons < 2: \n",
    "            raise ValueError(\"Not enough room for the Amazons. Use less amazons our create a bigger board.\")\n",
    "        self.width = width\n",
    "        self.n_amazons = n_amazons\n",
    "        self.matrix = self.create_board()\n",
    "        self.turn = 'white'\n",
    "        self.winner = None\n",
    "        \n",
    "    def create_board(self):\n",
    "        matrix = np.zeros(shape=(self.width, self.width))\n",
    "        for i in range(self.n_amazons):\n",
    "            matrix[i][i] = 1\n",
    "            matrix[self.width-i-1][self.width-i-1] = 2\n",
    "        return matrix\n",
    "    \n",
    "    def plot_board(self):\n",
    "        plt.imshow(self.matrix, cmap=ListedColormap(['white', 'beige', 'black', 'red']))\n",
    "        plt.axis(\"off\")\n",
    "        plt.show()\n",
    "\n",
    "    def available_squares(self, color='white'):\n",
    "        \"\"\"\n",
    "        Calculates the number of available squares.\n",
    "\n",
    "\n",
    "        :param color:\n",
    "        :return:\n",
    "        \"\"\"\n",
    "        pass\n",
    "    \n",
    "    def get_options(self, from_sq):\n",
    "        row = from_sq[0]\n",
    "        col = from_sq[1]\n",
    "        options = []\n",
    "        \n",
    "        # to the right\n",
    "        for j in range(col + 1, self.width):\n",
    "            if board.matrix[row][j] == 0:\n",
    "                options.append([row, j])\n",
    "            else:\n",
    "                break\n",
    "                \n",
    "        # to the left\n",
    "        for j in range(col - 1, -1, -1):\n",
    "            if board.matrix[row][j] == 0:\n",
    "                options.append([row, j])\n",
    "            else:\n",
    "                break\n",
    "                \n",
    "        # down\n",
    "        for i in range(row + 1, self.width):\n",
    "            if board.matrix[i][col] == 0:\n",
    "                options.append([i, col])\n",
    "            else:\n",
    "                break\n",
    "        \n",
    "        # up\n",
    "        for i in range(row - 1, -1, -1):\n",
    "            if board.matrix[i][col] == 0:\n",
    "                options.append([i, col])\n",
    "            else:\n",
    "                break\n",
    "\n",
    "        # upleft\n",
    "        for offset in range(1, min(row, col) + 1):\n",
    "            if board.matrix[row - offset][col - offset] == 0:\n",
    "                options.append([row - offset, col - offset])\n",
    "            else:\n",
    "                break\n",
    "            \n",
    "        # upright\n",
    "        for offset in range(1, min(row, board.width - col - 1) + 1):\n",
    "            if board.matrix[row - offset][col + offset] == 0:\n",
    "                options.append([row - offset, col + offset])\n",
    "            else:\n",
    "                break\n",
    "                \n",
    "        # downleft\n",
    "        for offset in range(1, min(board.width - row - 1, col) + 1):\n",
    "            if board.matrix[row + offset][col - offset] == 0:\n",
    "                options.append([row + offset, col - offset])\n",
    "            else:\n",
    "                break\n",
    "        \n",
    "        # downright\n",
    "        for offset in range(1, min(board.width - row - 1, board.width - col - 1) + 1):\n",
    "            if board.matrix[row + offset][col + offset] == 0:\n",
    "                options.append([row + offset, col + offset])\n",
    "            else:\n",
    "                break\n",
    "        \n",
    "        return options\n",
    "        \n",
    "    def next_turn(self):\n",
    "        \"Sets the board to the next turn\"\n",
    "        \n",
    "        ix = TURN.index(self.turn)\n",
    "        next_turn= TURN[(ix+1)%2]\n",
    "        self.turn = next_turn\n",
    "        \n",
    "    def move(self, from_sq, to_sq):\n",
    "        piece = self.matrix[from_sq[0], from_sq[1]]\n",
    "        self.matrix[from_sq[0], from_sq[1]] = 0\n",
    "        self.matrix[to_sq[0], to_sq[1]] = piece\n",
    "    \n",
    "    def shoot(self, sq):\n",
    "        board.matrix[sq[0], sq[1]] = 3\n",
    "        self.next_turn()\n",
    "        \n",
    "    def get_pieces(self, color):\n",
    "        pieces = [[i, j] for i in range(0, self.width) for j in range(0, self.width) \\\n",
    "                  if self.matrix[i][j] == colormap.get(color)]\n",
    "        return pieces\n",
    "        \n",
    "    def check_if_ended(self):\n",
    "        pieces = self.get_pieces(self.turn)\n",
    "        for piece in pieces:\n",
    "            if len(self.get_options(piece)) > 0:\n",
    "                return False\n",
    "\n",
    "        self.winner = \"white\" if self.turn == \"black\" else \"black\"\n",
    "        return True\n",
    "        \n",
    "    def next_board_states(self):\n",
    "        pass\n",
    "    \n",
    "    \n",
    "class RandomPlayer:\n",
    "    def __init__(self, board, color):\n",
    "        self.board = board\n",
    "        self.color = color\n",
    "        \n",
    "    def move(self):\n",
    "        # grab a white piece\n",
    "        pieces = self.board.get_pieces(self.color)\n",
    "        options = []  # (piece, option)\n",
    "\n",
    "        \n",
    "        for piece in pieces:\n",
    "            options += [[piece, opt] for opt in self.board.get_options(piece)]\n",
    "\n",
    "        choice = random.choice(options)\n",
    "        self.board.move(choice[0], choice[1])\n",
    "\n",
    "        # shoot\n",
    "        shoot_options = self.board.get_options(choice[1])\n",
    "        shoot_choice = random.choice(shoot_options)\n",
    "        self.board.shoot(shoot_choice)\n",
    "\n",
    "        \n",
    "def play_a_game(board, player1, player2):\n",
    "    turn = 0\n",
    "    players = [player1, player2]\n",
    "    \n",
    "    end = False\n",
    "    while not end:\n",
    "        players[turn].move()\n",
    "        turn = 1 - turn\n",
    "        \n",
    "        end = board.check_if_ended()\n",
    "        \n",
    "    print(board.matrix)\n",
    "    print(f\"Winner is {board.winner}\")\n",
    "    board.plot_board()"
   ]
  },
  {
   "cell_type": "code",
   "execution_count": 234,
   "metadata": {},
   "outputs": [
    {
     "data": {
      "text/plain": [
       "array([[1., 0., 0., 0.],\n",
       "       [0., 1., 0., 0.],\n",
       "       [0., 0., 2., 0.],\n",
       "       [0., 0., 0., 2.]])"
      ]
     },
     "execution_count": 234,
     "metadata": {},
     "output_type": "execute_result"
    }
   ],
   "source": [
    "board = Board(4, 2)\n",
    "p1 = RandomPlayer(board, 'white')\n",
    "p2 = RandomPlayer(board, 'black')\n",
    "\n",
    "board.matrix"
   ]
  },
  {
   "cell_type": "code",
   "execution_count": 235,
   "metadata": {},
   "outputs": [
    {
     "name": "stdout",
     "output_type": "stream",
     "text": [
      "[[3. 3. 3. 2.]\n",
      " [1. 3. 1. 3.]\n",
      " [3. 3. 3. 3.]\n",
      " [2. 0. 0. 3.]]\n",
      "Winner is black\n"
     ]
    },
    {
     "data": {
      "image/png": "[encoded data removed]",
      "text/plain": [
       "<Figure size 432x288 with 1 Axes>"
      ]
     },
     "metadata": {
      "needs_background": "light"
     },
     "output_type": "display_data"
    }
   ],
   "source": [
    "play_a_game(board, p1, p2)"
   ]
  },
  {
   "cell_type": "code",
   "execution_count": 199,
   "metadata": {},
   "outputs": [],
   "source": [
    "p1.move()"
   ]
  },
  {
   "cell_type": "code",
   "execution_count": 196,
   "metadata": {},
   "outputs": [],
   "source": [
    "p2.move()"
   ]
  },
  {
   "cell_type": "code",
   "execution_count": 197,
   "metadata": {},
   "outputs": [
    {
     "data": {
      "text/plain": [
       "array([[0., 0., 1., 0.],\n",
       "       [0., 1., 3., 0.],\n",
       "       [0., 0., 3., 0.],\n",
       "       [0., 0., 2., 2.]])"
      ]
     },
     "execution_count": 197,
     "metadata": {},
     "output_type": "execute_result"
    }
   ],
   "source": [
    "board.matrix"
   ]
  },
  {
   "cell_type": "code",
   "execution_count": 200,
   "metadata": {},
   "outputs": [
    {
     "data": {
      "text/plain": [
       "'black'"
      ]
     },
     "execution_count": 200,
     "metadata": {},
     "output_type": "execute_result"
    }
   ],
   "source": [
    "board.turn"
   ]
  },
  {
   "cell_type": "code",
   "execution_count": 110,
   "metadata": {},
   "outputs": [
    {
     "data": {
      "text/plain": [
       "[[1, 2], [1, 3], [1, 0], [2, 1], [3, 1], [0, 1], [0, 2], [2, 0]]"
      ]
     },
     "execution_count": 110,
     "metadata": {},
     "output_type": "execute_result"
    }
   ],
   "source": [
    "board.get_options([1,1])"
   ]
  },
  {
   "cell_type": "code",
   "execution_count": 93,
   "metadata": {},
   "outputs": [
    {
     "data": {
      "image/png": "[encoded data removed]",
      "text/plain": [
       "<Figure size 432x288 with 1 Axes>"
      ]
     },
     "metadata": {
      "needs_background": "light"
     },
     "output_type": "display_data"
    }
   ],
   "source": [
    "board.plot_board()"
   ]
  },
  {
   "cell_type": "code",
   "execution_count": 81,
   "metadata": {},
   "outputs": [
    {
     "data": {
      "text/plain": [
       "array([[1., 3., 0., 0.],\n",
       "       [0., 1., 0., 0.],\n",
       "       [0., 0., 2., 0.],\n",
       "       [0., 0., 0., 2.]])"
      ]
     },
     "execution_count": 81,
     "metadata": {},
     "output_type": "execute_result"
    }
   ],
   "source": [
    "board.matrix"
   ]
  },
  {
   "cell_type": "code",
   "execution_count": 38,
   "metadata": {},
   "outputs": [],
   "source": [
    "board.move([0,1], [3,3])"
   ]
  },
  {
   "cell_type": "code",
   "execution_count": 39,
   "metadata": {},
   "outputs": [
    {
     "data": {
      "image/png": "[encoded data removed]",
      "text/plain": [
       "<Figure size 432x288 with 1 Axes>"
      ]
     },
     "metadata": {
      "needs_background": "light"
     },
     "output_type": "display_data"
    }
   ],
   "source": [
    "board.plot_board()"
   ]
  },
  {
   "cell_type": "code",
   "execution_count": null,
   "metadata": {},
   "outputs": [],
   "source": []
  }
 ],
 "metadata": {
  "kernelspec": {
   "display_name": "Python 3",
   "language": "python",
   "name": "python3"
  },
  "language_info": {
   "codemirror_mode": {
    "name": "ipython",
    "version": 3
   },
   "file_extension": ".py",
   "mimetype": "text/x-python",
   "name": "python",
   "nbconvert_exporter": "python",
   "pygments_lexer": "ipython3",
   "version": "3.7.4"
  }
 },
 "nbformat": 4,
 "nbformat_minor": 4
}
