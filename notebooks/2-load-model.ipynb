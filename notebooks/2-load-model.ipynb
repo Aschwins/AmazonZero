{
 "cells": [
  {
   "cell_type": "code",
   "execution_count": 21,
   "id": "84baa708-d639-4265-8708-47ebfc97db23",
   "metadata": {},
   "outputs": [],
   "source": [
    "BUCKET_NAME = 'game-of-amazons'\n",
    "MODEL_FILE_NAME = 'rfg3_3000pg.pkl'\n",
    "MODEL_LOCAL_PATH = '/models/' + MODEL_FILE_NAME"
   ]
  },
  {
   "cell_type": "code",
   "execution_count": 26,
   "id": "e848623d-d467-41ef-89ed-2c908f9b4fa5",
   "metadata": {},
   "outputs": [],
   "source": []
  },
  {
   "cell_type": "code",
   "execution_count": 29,
   "id": "17b2e852-4735-4555-9e1e-45968fba13c2",
   "metadata": {},
   "outputs": [],
   "source": []
  },
  {
   "cell_type": "code",
   "execution_count": 1,
   "id": "4b7ed24b-0110-4bbb-a78e-a81243bf3107",
   "metadata": {},
   "outputs": [],
   "source": [
    "import pickle\n",
    "import boto3\n",
    "import numpy as np\n",
    "import requests\n",
    "from io import BytesIO\n",
    "from amazonzero.board import Board\n",
    "from amazonzero.player import ForestPlayer, Predictor, Actor"
   ]
  },
  {
   "cell_type": "code",
   "execution_count": 2,
   "id": "67b0aefd-b2e9-4126-b11d-84c4c585c6cf",
   "metadata": {},
   "outputs": [
    {
     "data": {
      "text/plain": [
       "array([[1., 0., 0., 0., 0., 0.],\n",
       "       [0., 0., 0., 0., 0., 0.],\n",
       "       [0., 0., 0., 0., 0., 0.],\n",
       "       [3., 0., 0., 0., 0., 0.],\n",
       "       [0., 1., 0., 0., 2., 0.],\n",
       "       [0., 0., 0., 0., 0., 2.]])"
      ]
     },
     "execution_count": 2,
     "metadata": {},
     "output_type": "execute_result"
    }
   ],
   "source": [
    "b = Board(6, 2)\n",
    "\n",
    "s3 = boto3.resource('s3')\n",
    "with BytesIO() as data:\n",
    "    s3.Bucket(\"game-of-amazons\").download_fileobj(\"models/rfg3_3000pg.pkl\", data)\n",
    "    data.seek(0)    # move back to the beginning after writing\n",
    "    model = pickle.load(data)\n",
    "    \n",
    "predictor = Predictor(model, max_mem=1_000)\n",
    "actor = Actor()\n",
    "\n",
    "fp = ForestPlayer(predictor, actor)\n",
    "\n",
    "fp.move(b)"
   ]
  },
  {
   "cell_type": "code",
   "execution_count": 3,
   "id": "9bc7577e-ea8e-4d93-bccd-c59b472e51be",
   "metadata": {},
   "outputs": [
    {
     "data": {
      "text/plain": [
       "[[1.0, 0.0, 0.0, 0.0, 0.0, 0.0],\n",
       " [0.0, 1.0, 0.0, 0.0, 0.0, 0.0],\n",
       " [0.0, 0.0, 0.0, 0.0, 0.0, 0.0],\n",
       " [0.0, 0.0, 0.0, 0.0, 0.0, 0.0],\n",
       " [0.0, 0.0, 0.0, 0.0, 2.0, 0.0],\n",
       " [0.0, 0.0, 0.0, 0.0, 0.0, 2.0]]"
      ]
     },
     "execution_count": 3,
     "metadata": {},
     "output_type": "execute_result"
    }
   ],
   "source": [
    "b.matrix.tolist()"
   ]
  },
  {
   "cell_type": "code",
   "execution_count": 23,
   "id": "229ab736-ece0-4184-9737-e175b899f67b",
   "metadata": {},
   "outputs": [],
   "source": [
    "r = requests.get('https://fnl4fkqygi.execute-api.eu-west-1.amazonaws.com/dev/move')\n",
    "# r = requests.post('http://localhost:5000/', json={\"boardstate\": b.matrix.tolist()})"
   ]
  },
  {
   "cell_type": "code",
   "execution_count": 24,
   "id": "9ca2221c-7709-4636-a7b3-75b7520d87ab",
   "metadata": {},
   "outputs": [
    {
     "data": {
      "text/plain": [
       "b'\"{\\'message\\': \\'An uncaught exception happened while servicing this request. You can investigate this with the `zappa tail` command.\\', \\'traceback\\': [\\'Traceback (most recent call last):\\\\\\\\n\\', \\'  File \\\\\"/var/task/handler.py\\\\\", line 540, in handler\\\\\\\\n    with Response.from_app(self.wsgi_app, environ) as response:\\\\\\\\n\\', \\'  File \\\\\"/var/task/werkzeug/wrappers/base_response.py\\\\\", line 287, in from_app\\\\\\\\n    return cls(*_run_wsgi_app(app, environ, buffered))\\\\\\\\n\\', \\'  File \\\\\"/var/task/werkzeug/wrappers/base_response.py\\\\\", line 26, in _run_wsgi_app\\\\\\\\n    return _run_wsgi_app(*args)\\\\\\\\n\\', \\'  File \\\\\"/var/task/werkzeug/test.py\\\\\", line 1119, in run_wsgi_app\\\\\\\\n    app_rv = app(environ, start_response)\\\\\\\\n\\', \\\\\"TypeError: \\'NoneType\\' object is not callable\\\\\\\\n\\\\\"]}\"'"
      ]
     },
     "execution_count": 24,
     "metadata": {},
     "output_type": "execute_result"
    }
   ],
   "source": [
    "r.content"
   ]
  },
  {
   "cell_type": "code",
   "execution_count": 12,
   "id": "58f293fa-1461-4444-90ca-7623eb4f00a3",
   "metadata": {},
   "outputs": [
    {
     "data": {
      "text/plain": [
       "[[1.0, 0.0, 0.0, 0.0, 0.0, 0.0],\n",
       " [0.0, 0.0, 0.0, 0.0, 0.0, 0.0],\n",
       " [0.0, 0.0, 0.0, 0.0, 0.0, 0.0],\n",
       " [3.0, 0.0, 0.0, 0.0, 0.0, 0.0],\n",
       " [0.0, 1.0, 0.0, 0.0, 2.0, 0.0],\n",
       " [0.0, 0.0, 0.0, 0.0, 0.0, 2.0]]"
      ]
     },
     "execution_count": 12,
     "metadata": {},
     "output_type": "execute_result"
    }
   ],
   "source": [
    "response_boardstate = r.json()['next_boardstate']\n",
    "response_boardstate"
   ]
  },
  {
   "cell_type": "code",
   "execution_count": 29,
   "id": "e94bb769-7673-4b55-ad39-56eae975e039",
   "metadata": {},
   "outputs": [
    {
     "data": {
      "text/plain": [
       "2"
      ]
     },
     "execution_count": 29,
     "metadata": {},
     "output_type": "execute_result"
    }
   ],
   "source": [
    "sum(sum(np.array(response_boardstate) == 1))"
   ]
  },
  {
   "cell_type": "code",
   "execution_count": null,
   "id": "e255cb62-7863-4a09-aa24-f8207193a0fa",
   "metadata": {},
   "outputs": [],
   "source": [
    "'https://fnl4fkqygi.execute-api.eu-west-1.amazonaws.com/dev/move'\n",
    "'https://fnl4fkqygi.execute-api.eu-west-1.amazonaws.com/dev/mov'"
   ]
  }
 ],
 "metadata": {
  "kernelspec": {
   "display_name": "Python 3",
   "language": "python",
   "name": "python3"
  },
  "language_info": {
   "codemirror_mode": {
    "name": "ipython",
    "version": 3
   },
   "file_extension": ".py",
   "mimetype": "text/x-python",
   "name": "python",
   "nbconvert_exporter": "python",
   "pygments_lexer": "ipython3",
   "version": "3.8.2"
  }
 },
 "nbformat": 4,
 "nbformat_minor": 5
}
